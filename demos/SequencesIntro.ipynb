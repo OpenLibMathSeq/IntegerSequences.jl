{
  "cells": [
    {
      "cell_type": "markdown",
      "source": [
        "<html> <h1 style=\"color:brown;line-height:1.5;text-align:center;\">\n",
        "Introduction to <a href=\"https://github.com/OpenLibMathSeq/IntegerSequences.jl\">IntegerSequences</a>.</h1> \n",
        "    <p style=\"text-align:center;color:brown\">A Jupyter notebook for the Julia kernel.</p>"
      ],
      "metadata": {}
    },
    {
      "cell_type": "code",
      "source": [
        "using IntegerSequences"
      ],
      "outputs": [],
      "execution_count": 3,
      "metadata": {
        "scrolled": true
      }
    },
    {
      "cell_type": "code",
      "source": [
        "∏([1, 2, 3])"
      ],
      "outputs": [
        {
          "output_type": "execute_result",
          "execution_count": 7,
          "data": {
            "text/plain": [
              "6"
            ]
          },
          "metadata": {}
        }
      ],
      "execution_count": 7,
      "metadata": {}
    },
    {
      "cell_type": "markdown",
      "source": [
        "This behaviour is a bit different (more spezialized) than Julia's prod function:"
      ],
      "metadata": {}
    },
    {
      "cell_type": "code",
      "source": [
        "∏([])"
      ],
      "outputs": [
        {
          "output_type": "execute_result",
          "execution_count": 8,
          "data": {
            "text/plain": [
              "1"
            ]
          },
          "metadata": {}
        }
      ],
      "execution_count": 8,
      "metadata": {}
    },
    {
      "cell_type": "markdown",
      "source": [
        "<a href=\"http://oeis.org/A000002\">A000002</a>"
      ],
      "metadata": {}
    },
    {
      "cell_type": "code",
      "source": [
        "?KolakoskiList(n)"
      ],
      "outputs": [
        {
          "output_type": "execute_result",
          "execution_count": 9,
          "data": {
            "text/plain": [
              "  Return the list of the first \u001b[35mn\u001b[39m terms of the Kolakoski sequence.\n",
              "\n",
              "\u001b[36m  KolakoskiList(len)\u001b[39m\n",
              "\u001b[36m  \u001b[39m"
            ],
            "text/markdown": [
              "Return the list of the first $n$ terms of the Kolakoski sequence.\n",
              "\n",
              "```julia\n",
              "KolakoskiList(len)\n",
              "\n",
              "```\n"
            ],
            "text/latex": [
              "Return the list of the first $n$ terms of the Kolakoski sequence.\n",
              "\n",
              "\\begin{verbatim}\n",
              "KolakoskiList(len)\n",
              "\n",
              "\\end{verbatim}\n"
            ]
          },
          "metadata": {}
        }
      ],
      "execution_count": 9,
      "metadata": {}
    },
    {
      "cell_type": "code",
      "source": [
        "@time KolakoskiList(10000);"
      ],
      "outputs": [
        {
          "output_type": "stream",
          "name": "stdout",
          "text": [
            "  0.253913 seconds (276.66 k allocations: 14.851 MiB)\n"
          ]
        }
      ],
      "execution_count": 10,
      "metadata": {}
    },
    {
      "cell_type": "markdown",
      "source": [
        "<a href=\"http://oeis.org/A000041\">A000041</a>"
      ],
      "metadata": {}
    },
    {
      "cell_type": "code",
      "source": [
        "?L000041(n)"
      ],
      "outputs": [
        {
          "output_type": "execute_result",
          "execution_count": 11,
          "data": {
            "text/plain": [
              "  Return the first n numbers of integer partitions.\n",
              "\n",
              "\u001b[36m  L000041(len)\u001b[39m\n",
              "\u001b[36m  \u001b[39m"
            ],
            "text/markdown": [
              "Return the first n numbers of integer partitions.\n",
              "\n",
              "```julia\n",
              "L000041(len)\n",
              "\n",
              "```\n"
            ],
            "text/latex": [
              "Return the first n numbers of integer partitions.\n",
              "\n",
              "\\begin{verbatim}\n",
              "L000041(len)\n",
              "\n",
              "\\end{verbatim}\n"
            ]
          },
          "metadata": {}
        }
      ],
      "execution_count": 11,
      "metadata": {}
    },
    {
      "cell_type": "markdown",
      "source": [
        "Sometimes alias names are provided:"
      ],
      "metadata": {}
    },
    {
      "cell_type": "code",
      "source": [
        "?PartitionNumberList(n)"
      ],
      "outputs": [
        {
          "output_type": "execute_result",
          "execution_count": 12,
          "data": {
            "text/plain": [
              "  Return the first n numbers of integer partitions.\n",
              "\n",
              "\u001b[36m  PartitionNumberList(len)\u001b[39m\n",
              "\u001b[36m  \u001b[39m"
            ],
            "text/markdown": [
              "Return the first n numbers of integer partitions.\n",
              "\n",
              "```julia\n",
              "PartitionNumberList(len)\n",
              "\n",
              "```\n"
            ],
            "text/latex": [
              "Return the first n numbers of integer partitions.\n",
              "\n",
              "\\begin{verbatim}\n",
              "PartitionNumberList(len)\n",
              "\n",
              "\\end{verbatim}\n"
            ]
          },
          "metadata": {}
        }
      ],
      "execution_count": 12,
      "metadata": {}
    },
    {
      "cell_type": "code",
      "source": [
        "@time PartitionNumberList(10000)"
      ],
      "outputs": [
        {
          "output_type": "stream",
          "name": "stdout",
          "text": [
            "  0.413393 seconds (427.93 k allocations: 21.407 MiB)\n"
          ]
        },
        {
          "output_type": "execute_result",
          "execution_count": 13,
          "data": {
            "text/plain": [
              "10000-element Array{Nemo.fmpz,1}:\n",
              " 1                                                                                                          \n",
              " 1                                                                                                          \n",
              " 2                                                                                                          \n",
              " 3                                                                                                          \n",
              " 5                                                                                                          \n",
              " 7                                                                                                          \n",
              " 11                                                                                                         \n",
              " 15                                                                                                         \n",
              " 22                                                                                                         \n",
              " 30                                                                                                         \n",
              " 42                                                                                                         \n",
              " 56                                                                                                         \n",
              " 77                                                                                                         \n",
              " ⋮                                                                                                          \n",
              " 31043825285346179203111322344702502691204288916782299617140664920755263693739998376431336412511604846065386\n",
              " 31441633162505017725043072685150280998942275010990240407310684976259300201102466312424654422505902209828160\n",
              " 31844518570662728128432498198770643470554878567147357519065748313704248350967866596215554854000450190422692\n",
              " 32252546062317406248156034165388338179552879591675562638154916336292505933438802567830371084979643431802320\n",
              " 32665781007405524258389071434459832520705557601233383765165302244509726839395712373593512541795379995093234\n",
              " 33084289603612407511950812669293367467125730548295752163474430686998163300813819769018599450853256690251572\n",
              " 33508138886812245602672231457913762038439470641735472172049172830310371115678820194365016404354643228993780\n",
              " 33937396741639258612119265224819443872151984974260266129721255782198903530519782537842049715539046879887297\n",
              " 34372131912191659706288103452862907473008084341860567259397383830892398633152171755868679771156323979187742\n",
              " 34812414012870075703014493600818021522596529007784886495230940523526628315252053824848577978149645301487874\n",
              " 35258313539352107939906327583171132251729624119064301429161749554127817510844257916651009136109253133438537\n",
              " 35709901879704736738758549207052696680819022123397567612860179055188265961723158018938110612668644192313000"
            ]
          },
          "metadata": {}
        }
      ],
      "execution_count": 13,
      "metadata": {}
    },
    {
      "cell_type": "markdown",
      "source": [
        "OEIS: <a href=\"https://oeis.org/A000594\">A000594</a>\n",
        "Wikipedia: <a href=\"https://en.wikipedia.org/wiki/Ramanujan_tau_function\">Ramanujan tau function</a>\n",
        "MathOverflow: <a href=\"https://mathoverflow.net/questions/161172/ramanujans-tau-function\">\n",
        "Ramanujan's tau function</a>"
      ],
      "metadata": {}
    },
    {
      "cell_type": "code",
      "source": [
        "?RamanujanTauList(n)"
      ],
      "outputs": [
        {
          "output_type": "execute_result",
          "execution_count": 9,
          "data": {
            "text/latex": [
              "List of the first values of the Ramanujan tau function, the Fourier coefficients of the Weierstrass Delta-function.\n",
              "\n"
            ],
            "text/plain": [
              "  List of the first values of the Ramanujan tau function, the Fourier\n",
              "  coefficients of the Weierstrass Delta-function."
            ]
          },
          "metadata": {}
        }
      ],
      "execution_count": 9,
      "metadata": {}
    },
    {
      "cell_type": "code",
      "source": [
        "@time RamanujanTauList(10000);"
      ],
      "outputs": [
        {
          "output_type": "stream",
          "name": "stdout",
          "text": [
            "  0.018450 seconds (10.54 k allocations: 267.405 KiB)\n"
          ]
        }
      ],
      "execution_count": 10,
      "metadata": {}
    },
    {
      "cell_type": "code",
      "source": [
        "RamanujanTau(10000) |> println"
      ],
      "outputs": [
        {
          "output_type": "stream",
          "name": "stdout",
          "text": [
            "-482606811957501440000\n"
          ]
        }
      ],
      "execution_count": 11,
      "metadata": {}
    },
    {
      "cell_type": "markdown",
      "source": [
        "<a href=\"http://oeis.org/A080577\">A080577</a>"
      ],
      "metadata": {}
    },
    {
      "cell_type": "code",
      "source": [
        "?V080577(n)"
      ],
      "outputs": [
        {
          "output_type": "execute_result",
          "execution_count": 12,
          "data": {
            "text/latex": [
              "Generates the integer partitions of $n$ in graded reverse lexicographic order, the canonical ordering of partitions.\n",
              "\n"
            ],
            "text/plain": [
              "  Generates the integer partitions of \u001b[35mn\u001b[39m in graded reverse lexicographic order,\n",
              "  the canonical ordering of partitions."
            ]
          },
          "metadata": {}
        }
      ],
      "execution_count": 12,
      "metadata": {}
    },
    {
      "cell_type": "markdown",
      "source": [
        "The function name 'Partition' is an alias for V080577. Though a better name it might lead to name clashes with other libraries (for instance with 'AbstractAlgebra'). "
      ],
      "metadata": {}
    },
    {
      "cell_type": "code",
      "source": [
        "?Partition(n)"
      ],
      "outputs": [
        {
          "output_type": "execute_result",
          "execution_count": 13,
          "data": {
            "text/latex": [
              "Generates the integer partitions of $n$ in graded reverse lexicographic order, the canonical ordering of partitions.\n",
              "\n"
            ],
            "text/plain": [
              "  Generates the integer partitions of \u001b[35mn\u001b[39m in graded reverse lexicographic order,\n",
              "  the canonical ordering of partitions."
            ]
          },
          "metadata": {}
        }
      ],
      "execution_count": 13,
      "metadata": {}
    },
    {
      "cell_type": "code",
      "source": [
        "for n in 1:5 Partition(n); println() end"
      ],
      "outputs": [
        {
          "output_type": "stream",
          "name": "stdout",
          "text": [
            "[1]\n",
            "\n",
            "[2, 0]\n",
            "[1, 1]\n",
            "\n",
            "[3, 0, 0]\n",
            "[2, 1, 0]\n",
            "[1, 1, 1]\n",
            "\n",
            "[4, 0, 0, 0]\n",
            "[3, 1, 0, 0]\n",
            "[2, 2, 0, 0]\n",
            "[2, 1, 1, 0]\n",
            "[1, 1, 1, 1]\n",
            "\n",
            "[5, 0, 0, 0, 0]\n",
            "[4, 1, 0, 0, 0]\n",
            "[3, 2, 0, 0, 0]\n",
            "[3, 1, 1, 0, 0]\n",
            "[2, 2, 1, 0, 0]\n",
            "[2, 1, 1, 1, 0]\n",
            "[1, 1, 1, 1, 1]\n",
            "\n"
          ]
        }
      ],
      "execution_count": 14,
      "metadata": {}
    },
    {
      "cell_type": "markdown",
      "source": [
        "<a href=\"http://oeis.org/A004018\">A004018</a>"
      ],
      "metadata": {}
    },
    {
      "cell_type": "markdown",
      "source": [
        "Number of points in square lattice on the circle of radius √n."
      ],
      "metadata": {}
    },
    {
      "cell_type": "code",
      "source": [
        "?L004018(n)"
      ],
      "outputs": [
        {
          "output_type": "execute_result",
          "execution_count": 15,
          "data": {
            "text/latex": [
              "Return the number of ways of writing a nonnegative integer n as a sum of 2 squares.\n",
              "\n"
            ],
            "text/plain": [
              "  Return the number of ways of writing a nonnegative integer n as a sum of 2\n",
              "  squares."
            ]
          },
          "metadata": {}
        }
      ],
      "execution_count": 15,
      "metadata": {}
    },
    {
      "cell_type": "code",
      "source": [
        "SeqShow(L004018(12))"
      ],
      "outputs": [
        {
          "output_type": "stream",
          "name": "stdout",
          "text": [
            "0 ↦ 1\n",
            "1 ↦ 4\n",
            "2 ↦ 4\n",
            "3 ↦ 0\n",
            "4 ↦ 4\n",
            "5 ↦ 8\n",
            "6 ↦ 0\n",
            "7 ↦ 0\n",
            "8 ↦ 4\n",
            "9 ↦ 4\n",
            "10 ↦ 8\n",
            "11 ↦ 0\n"
          ]
        }
      ],
      "execution_count": 16,
      "metadata": {}
    },
    {
      "cell_type": "markdown",
      "source": [
        "<a href=\"http://oeis.org/A007947\">A007947</a>"
      ],
      "metadata": {}
    },
    {
      "cell_type": "code",
      "source": [
        "?Radical(n)"
      ],
      "outputs": [
        {
          "output_type": "execute_result",
          "execution_count": 14,
          "data": {
            "text/plain": [
              "  Return the radical of \u001b[35mn\u001b[39m which is the product of the prime numbers dividing \u001b[35mn\u001b[39m\n",
              "  (also called the squarefree kernel of \u001b[35mn\u001b[39m).\n",
              "\n",
              "\u001b[36m  Radical(n)\u001b[39m\n",
              "\u001b[36m  \u001b[39m"
            ],
            "text/markdown": [
              "Return the radical of $n$ which is the product of the prime numbers dividing $n$ (also called the squarefree kernel of $n$).\n",
              "\n",
              "```julia\n",
              "Radical(n)\n",
              "\n",
              "```\n"
            ],
            "text/latex": [
              "Return the radical of $n$ which is the product of the prime numbers dividing $n$ (also called the squarefree kernel of $n$).\n",
              "\n",
              "\\begin{verbatim}\n",
              "Radical(n)\n",
              "\n",
              "\\end{verbatim}\n"
            ]
          },
          "metadata": {}
        }
      ],
      "execution_count": 14,
      "metadata": {}
    },
    {
      "cell_type": "code",
      "source": [
        "SeqShow([Radical(n) for n in 1:10], 1)"
      ],
      "outputs": [
        {
          "output_type": "stream",
          "name": "stdout",
          "text": [
            "1 ↦ 1\n",
            "2 ↦ 2\n",
            "3 ↦ 3\n",
            "4 ↦ 2\n",
            "5 ↦ 5\n",
            "6 ↦ 6\n",
            "7 ↦ 7\n",
            "8 ↦ 2\n",
            "9 ↦ 3\n",
            "10 ↦ 10\n"
          ]
        }
      ],
      "execution_count": 16,
      "metadata": {}
    },
    {
      "cell_type": "code",
      "source": [
        "ZArray(10, Radical) |> Println # type beheaded"
      ],
      "outputs": [
        {
          "output_type": "stream",
          "name": "stdout",
          "text": [
            "[1, 2, 3, 2, 5, 6, 7, 2, 3, 10]\n"
          ]
        }
      ],
      "execution_count": 19,
      "metadata": {}
    },
    {
      "cell_type": "code",
      "source": [
        "ZArray(10, Radical) |> println # type shown"
      ],
      "outputs": [
        {
          "output_type": "stream",
          "name": "stdout",
          "text": [
            "ℤ[1, 2, 3, 2, 5, 6, 7, 2, 3, 10]\n"
          ]
        }
      ],
      "execution_count": 20,
      "metadata": {}
    },
    {
      "cell_type": "code",
      "source": [
        "?Nemoℤ(n)"
      ],
      "outputs": [
        {
          "output_type": "execute_result",
          "execution_count": 21,
          "data": {
            "text/latex": [
              "Think of a 'ℤ' as a 'BigInt'. 'ℤ' stands for 'fast multiple precision zahl (Zahl=integer)'. Nemo is a library designed, developed and maintained by William Hart with the help of others. The mathematical symbol for the ring of integers is the blackbord (double-struck) Z, also written ℤ. In reference to this ℤ(n) defines the integer n as a ℤ.\n",
              "\n"
            ],
            "text/plain": [
              "  Think of a 'ℤ' as a 'BigInt'. 'ℤ' stands for 'fast multiple\n",
              "  precision zahl (Zahl=integer)'. Nemo is a library designed, developed and\n",
              "  maintained by William Hart with the help of others. The mathematical symbol\n",
              "  for the ring of integers is the blackbord (double-struck) Z, also written\n",
              "  ℤ. In reference to this ℤ(n) defines the integer n as a ℤ."
            ]
          },
          "metadata": {}
        }
      ],
      "execution_count": 21,
      "metadata": {}
    },
    {
      "cell_type": "code",
      "source": [
        "using Nemo\n",
        "ℤ(7) |> println\n",
        "typeof(ℤ(7)) |> println"
      ],
      "outputs": [
        {
          "output_type": "stream",
          "name": "stdout",
          "text": [
            "7\n",
            "ℤ\n"
          ]
        }
      ],
      "execution_count": 46,
      "metadata": {}
    },
    {
      "cell_type": "markdown",
      "source": [
        "<a href=\"http://oeis.org/A160014\">A160014</a> C<sub>1</sub>(2n) "
      ],
      "metadata": {}
    },
    {
      "cell_type": "code",
      "source": [
        "?ClausenNumberList(len)"
      ],
      "outputs": [
        {
          "output_type": "execute_result",
          "execution_count": 2,
          "data": {
            "text/latex": [
              "Return the list of length len of Clausen numbers which are the denominators of the Bernoulli numbers $B_{2n}$.\n",
              "\n"
            ],
            "text/plain": [
              "  Return the list of length len of Clausen numbers which are the denominators\n",
              "  of the Bernoulli numbers \u001b[35mB_{2n}\u001b[39m."
            ]
          },
          "metadata": {}
        }
      ],
      "execution_count": 2,
      "metadata": {}
    },
    {
      "cell_type": "code",
      "source": [
        "@time ClausenNumberList(10000)"
      ],
      "outputs": [
        {
          "output_type": "stream",
          "name": "stdout",
          "text": [
            "  0.200249 seconds (211.54 k allocations: 9.076 MiB)\n"
          ]
        },
        {
          "output_type": "execute_result",
          "execution_count": 17,
          "data": {
            "text/plain": [
              "10000-element Array{Nemo.fmpz,1}:\n",
              " 1                                      \n",
              " 6                                      \n",
              " 30                                     \n",
              " 42                                     \n",
              " 30                                     \n",
              " 66                                     \n",
              " 2730                                   \n",
              " 6                                      \n",
              " 510                                    \n",
              " 798                                    \n",
              " 330                                    \n",
              " 138                                    \n",
              " 2730                                   \n",
              " ⋮                                      \n",
              " 61410                                  \n",
              " 119874                                 \n",
              " 377955235229990286356376822928609444830\n",
              " 6                                      \n",
              " 510                                    \n",
              " 42                                     \n",
              " 30                                     \n",
              " 1319406                                \n",
              " 599661821866545369046074290609553308670\n",
              " 6                                      \n",
              " 599910                                 \n",
              " 148541326374                           "
            ]
          },
          "metadata": {}
        }
      ],
      "execution_count": 17,
      "metadata": {}
    },
    {
      "cell_type": "markdown",
      "source": [
        "<a href=\"http://oeis.org/A055883\">A055883</a>"
      ],
      "metadata": {}
    },
    {
      "cell_type": "code",
      "source": [
        "?T055883(n)"
      ],
      "outputs": [
        {
          "output_type": "execute_result",
          "execution_count": 25,
          "data": {
            "text/latex": [
              "Return the exponential transform of Pascal's triangle.\n",
              "\n"
            ],
            "text/plain": [
              "  Return the exponential transform of Pascal's triangle."
            ]
          },
          "metadata": {}
        }
      ],
      "execution_count": 25,
      "metadata": {}
    },
    {
      "cell_type": "code",
      "source": [
        "T = T055883(8)\n",
        "ShowAsΔ(T)"
      ],
      "outputs": [
        {
          "output_type": "stream",
          "name": "stdout",
          "text": [
            "[1]\n",
            "[1, 1]\n",
            "[2, 4, 2]\n",
            "[5, 15, 15, 5]\n",
            "[15, 60, 90, 60, 15]\n",
            "[52, 260, 520, 520, 260, 52]\n",
            "[203, 1218, 3045, 4060, 3045, 1218, 203]\n",
            "[877, 6139, 18417, 30695, 30695, 18417, 6139, 877]\n"
          ]
        }
      ],
      "execution_count": 26,
      "metadata": {}
    },
    {
      "cell_type": "markdown",
      "source": [
        "<a href=\"http://oeis.org/A055882\">A055882</a>"
      ],
      "metadata": {}
    },
    {
      "cell_type": "code",
      "source": [
        "SeqShow(RowSums(T))"
      ],
      "outputs": [
        {
          "output_type": "stream",
          "name": "stdout",
          "text": [
            "0 ↦ 1\n",
            "1 ↦ 2\n",
            "2 ↦ 8\n",
            "3 ↦ 40\n",
            "4 ↦ 240\n",
            "5 ↦ 1664\n",
            "6 ↦ 12992\n",
            "7 ↦ 112256\n"
          ]
        }
      ],
      "execution_count": 27,
      "metadata": {}
    },
    {
      "cell_type": "code",
      "source": [
        "F!(100) # factorial, by abuse of Julia's notational convention."
      ],
      "outputs": [
        {
          "output_type": "execute_result",
          "execution_count": 28,
          "data": {
            "text/plain": [
              "93326215443944152681699238856266700490715968264381621468592963895217599993229915608941463976156518286253697920827223758251185210916864000000000000000000000000"
            ]
          },
          "metadata": {}
        }
      ],
      "execution_count": 28,
      "metadata": {}
    },
    {
      "cell_type": "code",
      "source": [
        "20 ↑ 80 # rising factorial (a.k.a. Pochhammer)"
      ],
      "outputs": [
        {
          "output_type": "execute_result",
          "execution_count": 29,
          "data": {
            "text/plain": [
              "7672007761125431684634727597495353711476575990922977572996420503817280042645967011366496920719186500492584771921662443520000000000000000000"
            ]
          },
          "metadata": {}
        }
      ],
      "execution_count": 29,
      "metadata": {}
    },
    {
      "cell_type": "code",
      "source": [
        "80 ↓ 60  # falling factorial"
      ],
      "outputs": [
        {
          "output_type": "execute_result",
          "execution_count": 30,
          "data": {
            "text/plain": [
              "29417320058814110230954525683465474269466473294721862358843420910671112153490073321472000000000000000"
            ]
          },
          "metadata": {}
        }
      ],
      "execution_count": 30,
      "metadata": {}
    },
    {
      "cell_type": "markdown",
      "source": [
        "<a href=\"http://oeis.org/A000005\">A000005</a>\n",
        "What a shame that GitHub cannot display correctly &tau; and &sigma;."
      ],
      "metadata": {}
    },
    {
      "cell_type": "code",
      "source": [
        "?τ(n)"
      ],
      "outputs": [
        {
          "output_type": "execute_result",
          "execution_count": 31,
          "data": {
            "text/latex": [
              "Return $τ(n)$ (a.k.a. $σ_0(n)$), the number of divisors of $n$. Cf. A000005.\n",
              "\n"
            ],
            "text/plain": [
              "  Return \u001b[35mτ(n)\u001b[39m (a.k.a. \u001b[35mσ_0(n)\u001b[39m), the number of divisors of \u001b[35mn\u001b[39m. Cf. A000005."
            ]
          },
          "metadata": {}
        }
      ],
      "execution_count": 31,
      "metadata": {}
    },
    {
      "cell_type": "code",
      "source": [
        "τ(25920)"
      ],
      "outputs": [
        {
          "output_type": "execute_result",
          "execution_count": 32,
          "data": {
            "text/plain": [
              "70"
            ]
          },
          "metadata": {}
        }
      ],
      "execution_count": 32,
      "metadata": {}
    },
    {
      "cell_type": "markdown",
      "source": [
        "<a href=\"http://oeis.org/A000203\">A000203</a>"
      ],
      "metadata": {}
    },
    {
      "cell_type": "code",
      "source": [
        "?σ(n)"
      ],
      "outputs": [
        {
          "output_type": "execute_result",
          "execution_count": 33,
          "data": {
            "text/latex": [
              "Return $σ(n)$ (a.k.a. $σ_1(n)$), the sum of the divisors of $n$. Cf. A000203.\n",
              "\n"
            ],
            "text/plain": [
              "  Return \u001b[35mσ(n)\u001b[39m (a.k.a. \u001b[35mσ_1(n)\u001b[39m), the sum of the divisors of \u001b[35mn\u001b[39m. Cf. A000203."
            ]
          },
          "metadata": {}
        }
      ],
      "execution_count": 33,
      "metadata": {}
    },
    {
      "cell_type": "code",
      "source": [
        "σ(25920) "
      ],
      "outputs": [
        {
          "output_type": "execute_result",
          "execution_count": 34,
          "data": {
            "text/plain": [
              "92202"
            ]
          },
          "metadata": {}
        }
      ],
      "execution_count": 34,
      "metadata": {}
    },
    {
      "cell_type": "markdown",
      "source": [
        "Number of acyclic orientations of the Turán graph T(2n, n) for n = 20."
      ],
      "metadata": {}
    },
    {
      "cell_type": "code",
      "source": [
        "?V033815(n)"
      ],
      "outputs": [
        {
          "output_type": "execute_result",
          "execution_count": 35,
          "data": {
            "text/latex": [
              "Return $(2n)!$ Hyper$1F1[-n, -2n, -1]$. Number of acyclic orientations of the Turán graph $T(2n,n)$. (Alois P. Heinz)\n",
              "\n"
            ],
            "text/plain": [
              "  Return \u001b[35m(2n)!\u001b[39m Hyper\u001b[35m1F1[-n, -2n, -1]\u001b[39m. Number of acyclic orientations of the\n",
              "  Turán graph \u001b[35mT(2n,n)\u001b[39m."
            ]
          },
          "metadata": {}
        }
      ],
      "execution_count": 35,
      "metadata": {}
    },
    {
      "cell_type": "code",
      "source": [
        "V033815(20) "
      ],
      "outputs": [
        {
          "output_type": "execute_result",
          "execution_count": 36,
          "data": {
            "text/plain": [
              "815915283247897734345611269596115894272000000000"
            ]
          },
          "metadata": {}
        }
      ],
      "execution_count": 36,
      "metadata": {}
    },
    {
      "cell_type": "markdown",
      "source": [
        "The familiar Pascal's triangle."
      ],
      "metadata": {}
    },
    {
      "cell_type": "code",
      "source": [
        "for n in 0:8\n",
        "    for k in 0:n print(lpad(Binomial(n, k), 4)) end\n",
        "    println()\n",
        "end"
      ],
      "outputs": [
        {
          "output_type": "stream",
          "name": "stdout",
          "text": [
            "   1\n",
            "   1   1\n",
            "   1   2   1\n",
            "   1   3   3   1\n",
            "   1   4   6   4   1\n",
            "   1   5  10  10   5   1\n",
            "   1   6  15  20  15   6   1\n",
            "   1   7  21  35  35  21   7   1\n",
            "   1   8  28  56  70  56  28   8   1\n"
          ]
        }
      ],
      "execution_count": 37,
      "metadata": {}
    },
    {
      "cell_type": "markdown",
      "source": [
        "The binomial function defined for all ℤ. Here evaluated in an extended\n",
        "region on the 2-dim lattice near the origin. Works the same way as Maple and Mathematica. Some background can be found in: <a href=\"http://oeis.org/wiki/User:Peter_Luschny/ExtensionsOfTheBinomial\">Extensions of the Binomial</a>."
      ],
      "metadata": {}
    },
    {
      "cell_type": "code",
      "source": [
        "for n in -5:5\n",
        "    for k in -5:5\n",
        "        print(lpad(Binomial(n, k), 5))\n",
        "    end\n",
        "    println()\n",
        "end"
      ],
      "outputs": [
        {
          "output_type": "stream",
          "name": "stdout",
          "text": [
            "    1    0    0    0    0    1   -5   15  -35   70 -126\n",
            "   -4    1    0    0    0    1   -4   10  -20   35  -56\n",
            "    6   -3    1    0    0    1   -3    6  -10   15  -21\n",
            "   -4    3   -2    1    0    1   -2    3   -4    5   -6\n",
            "    1   -1    1   -1    1    1   -1    1   -1    1   -1\n",
            "    0    0    0    0    0    1    0    0    0    0    0\n",
            "    0    0    0    0    0    1    1    0    0    0    0\n",
            "    0    0    0    0    0    1    2    1    0    0    0\n",
            "    0    0    0    0    0    1    3    3    1    0    0\n",
            "    0    0    0    0    0    1    4    6    4    1    0\n",
            "    0    0    0    0    0    1    5   10   10    5    1\n"
          ]
        }
      ],
      "execution_count": 38,
      "metadata": {
        "scrolled": false
      }
    },
    {
      "cell_type": "code",
      "source": [
        "?⊥(m, n)"
      ],
      "outputs": [
        {
          "output_type": "execute_result",
          "execution_count": 39,
          "data": {
            "text/latex": [
              "Query if $m$ is prime to $n$. Knuth, Graham and Patashnik write in \"Concrete Mathematics\": \"Hear us, O mathematicians of the world! Let us not wait any longer! We can make many formulas clearer by defining a new notation now! Let us agree to write m ⊥ n, and to say \"m is prime to n\", if m and n are relatively prime.\"\n",
              "\n"
            ],
            "text/plain": [
              "  Query if \u001b[35mm\u001b[39m is prime to \u001b[35mn\u001b[39m. Knuth, Graham and Patashnik write in \"Concrete\n",
              "  Mathematics\": \"Hear us, O mathematicians of the world! Let us not wait any\n",
              "  longer! We can make many formulas clearer by defining a new notation now!\n",
              "  Let us agree to write m ⊥ n, and to say \"m is prime to n\", if m and n are\n",
              "  relatively prime.\""
            ]
          },
          "metadata": {}
        }
      ],
      "execution_count": 39,
      "metadata": {}
    },
    {
      "cell_type": "code",
      "source": [
        "for n in 1:6\n",
        "    for m in 1:6 print(⊥(m, n), \" \" ) end\n",
        "    println()\n",
        "end"
      ],
      "outputs": [
        {
          "output_type": "stream",
          "name": "stdout",
          "text": [
            "true true true true true true \n",
            "true false true false true false \n",
            "true true false true true false \n",
            "true false true false true false \n",
            "true true true true false true \n",
            "true false false false true false \n"
          ]
        }
      ],
      "execution_count": 40,
      "metadata": {}
    },
    {
      "cell_type": "markdown",
      "source": [
        "Using conversion to integer this can also be written as:"
      ],
      "metadata": {}
    },
    {
      "cell_type": "code",
      "source": [
        "for n in 1:6\n",
        "    for m in 1:6 print(Int(⊥(m, n)), \" \" ) end\n",
        "    println()\n",
        "end"
      ],
      "outputs": [
        {
          "output_type": "stream",
          "name": "stdout",
          "text": [
            "1 1 1 1 1 1 \n",
            "1 0 1 0 1 0 \n",
            "1 1 0 1 1 0 \n",
            "1 0 1 0 1 0 \n",
            "1 1 1 1 0 1 \n",
            "1 0 0 0 1 0 \n"
          ]
        }
      ],
      "execution_count": 41,
      "metadata": {}
    },
    {
      "cell_type": "code",
      "source": [
        "?⍊(m, n)"
      ],
      "outputs": [
        {
          "output_type": "execute_result",
          "execution_count": 18,
          "data": {
            "text/plain": [
              "  Query if \u001b[35mm\u001b[39m is strong prime to \u001b[35mn\u001b[39m. \u001b[35mm\u001b[39m is strong prime to \u001b[35mn\u001b[39m iff \u001b[35mm\u001b[39m is prime to \u001b[35mn\u001b[39m\n",
              "  and \u001b[35mm\u001b[39m does not divide \u001b[35mn-1\u001b[39m.\n",
              "\n",
              "\u001b[36m  ⍊(m, n)\u001b[39m\n",
              "\u001b[36m  \u001b[39m"
            ],
            "text/markdown": [
              "Query if $m$ is strong prime to $n$. $m$ is strong prime to $n$ iff $m$ is prime to $n$ and $m$ does not divide $n-1$.\n",
              "\n",
              "```julia\n",
              "⍊(m, n)\n",
              "\n",
              "```\n"
            ],
            "text/latex": [
              "Query if $m$ is strong prime to $n$. $m$ is strong prime to $n$ iff $m$ is prime to $n$ and $m$ does not divide $n-1$.\n",
              "\n",
              "\\begin{verbatim}\n",
              "⍊(m, n)\n",
              "\n",
              "\\end{verbatim}\n"
            ]
          },
          "metadata": {}
        }
      ],
      "execution_count": 18,
      "metadata": {}
    },
    {
      "cell_type": "code",
      "source": [
        "for n in 5:23\n",
        "    T = [k for k in 1:n if ⍊(n, k)]\n",
        "    L = [Int(k ∈ T) for k in 3:(n - 2)]\n",
        "    println(L)\n",
        "end"
      ],
      "outputs": [
        {
          "output_type": "stream",
          "name": "stdout",
          "text": [
            "[1]\n",
            "[0, 0]\n",
            "[0, 1, 1]\n",
            "[1, 0, 1, 0]\n",
            "[0, 0, 1, 0, 1]\n",
            "[0, 0, 0, 0, 1, 0]\n",
            "[1, 1, 0, 1, 1, 1, 1]\n",
            "[0, 0, 1, 0, 1, 0, 0, 0]\n",
            "[0, 0, 1, 0, 1, 1, 1, 1, 1]\n",
            "[1, 0, 1, 0, 0, 0, 1, 0, 1, 0]\n",
            "[0, 1, 0, 0, 0, 1, 0, 0, 1, 0, 1]\n",
            "[0, 0, 0, 0, 1, 0, 1, 0, 1, 0, 1, 0]\n",
            "[1, 0, 1, 1, 1, 0, 1, 1, 1, 1, 1, 1, 1]\n",
            "[0, 0, 1, 0, 1, 0, 0, 0, 1, 0, 1, 0, 0, 0]\n",
            "[0, 1, 1, 0, 1, 1, 0, 1, 1, 1, 1, 1, 1, 1, 1]\n",
            "[1, 0, 0, 0, 1, 0, 1, 0, 1, 0, 1, 0, 0, 0, 1, 0]\n",
            "[0, 0, 0, 0, 0, 1, 0, 0, 1, 0, 1, 0, 0, 1, 1, 0, 1]\n",
            "[0, 0, 1, 0, 0, 0, 1, 0, 0, 0, 1, 0, 1, 0, 1, 0, 1, 0]\n",
            "[1, 1, 1, 1, 1, 1, 1, 1, 0, 1, 1, 1, 1, 1, 1, 1, 1, 1, 1]\n"
          ]
        }
      ],
      "execution_count": 19,
      "metadata": {}
    },
    {
      "cell_type": "markdown",
      "source": [
        "Insert the line sum(L) == n - 5 && println(n) if you want to see why this triangle is called the Save-Prime-Triangle. Generates the OLMS logo."
      ],
      "metadata": {}
    },
    {
      "cell_type": "markdown",
      "source": [
        "<a href=\"http://oeis.org/A319284\">A319284</a>"
      ],
      "metadata": {}
    },
    {
      "cell_type": "code",
      "source": [
        "?Queens(n)"
      ],
      "outputs": [
        {
          "output_type": "execute_result",
          "execution_count": 44,
          "data": {
            "text/latex": [
              "Returns the profile of the backtrack tree for the n queens problem (see A319284).\n",
              "\n"
            ],
            "text/plain": [
              "  Returns the profile of the backtrack tree for the n queens problem (see\n",
              "  A319284)."
            ]
          },
          "metadata": {}
        }
      ],
      "execution_count": 44,
      "metadata": {}
    },
    {
      "cell_type": "code",
      "source": [
        "function QueensProfile(n)\n",
        "    for n in 0:n\n",
        "        print(\"elapsed: \")\n",
        "        @time profile = Queens(n)\n",
        "        println(\"size:      \", n)\n",
        "        println(\"profile:   \", profile)\n",
        "        println(\"nodes:     \", sum(profile))\n",
        "        println(\"solutions: \", profile[n+1])\n",
        "        println()\n",
        "    end\n",
        "end\n",
        "QueensProfile(10)"
      ],
      "outputs": [
        {
          "output_type": "stream",
          "name": "stdout",
          "text": [
            "elapsed:   0.000004 seconds (1 allocation: 96 bytes)\n",
            "size:      0\n",
            "profile:   [1]\n",
            "nodes:     1\n",
            "solutions: 1\n",
            "\n",
            "elapsed:   0.000002 seconds (4 allocations: 256 bytes)\n",
            "size:      1\n",
            "profile:   [1, 1]\n",
            "nodes:     2\n",
            "solutions: 1\n",
            "\n",
            "elapsed:   0.000002 seconds (4 allocations: 288 bytes)\n",
            "size:      2\n",
            "profile:   [1, 2, 0]\n",
            "nodes:     3\n",
            "solutions: 0\n",
            "\n",
            "elapsed:   0.000003 seconds (4 allocations: 288 bytes)\n",
            "size:      3\n",
            "profile:   [1, 3, 2, 0]\n",
            "nodes:     6\n",
            "solutions: 0\n",
            "\n",
            "elapsed:   0.000003 seconds (4 allocations: 320 bytes)\n",
            "size:      4\n",
            "profile:   [1, 4, 6, 4, 2]\n",
            "nodes:     17\n",
            "solutions: 2\n",
            "\n",
            "elapsed:   0.000005 seconds (4 allocations: 320 bytes)\n",
            "size:      5\n",
            "profile:   [1, 5, 12, 14, 12, 10]\n",
            "nodes:     54\n",
            "solutions: 10\n",
            "\n",
            "elapsed:   0.000012 seconds (4 allocations: 352 bytes)\n",
            "size:      6\n",
            "profile:   [1, 6, 20, 36, 46, 40, 4]\n",
            "nodes:     153\n",
            "solutions: 4\n",
            "\n",
            "elapsed:   0.000035 seconds (4 allocations: 352 bytes)\n",
            "size:      7\n",
            "profile:   [1, 7, 30, 76, 140, 164, 94, 40]\n",
            "nodes:     552\n",
            "solutions: 40\n",
            "\n",
            "elapsed:   0.000154 seconds (4 allocations: 384 bytes)\n",
            "size:      8\n",
            "profile:   [1, 8, 42, 140, 344, 568, 550, 312, 92]\n",
            "nodes:     2057\n",
            "solutions: 92\n",
            "\n",
            "elapsed:   0.000598 seconds (4 allocations: 384 bytes)\n",
            "size:      9\n",
            "profile:   [1, 9, 56, 234, 732, 1614, 2292, 2038, 1066, 352]\n",
            "nodes:     8394\n",
            "solutions: 352\n",
            "\n",
            "elapsed:   0.002822 seconds (4 allocations: 416 bytes)\n",
            "size:      10\n",
            "profile:   [1, 10, 72, 364, 1400, 3916, 7552, 9632, 7828, 4040, 724]\n",
            "nodes:     35539\n",
            "solutions: 724\n",
            "\n"
          ]
        }
      ],
      "execution_count": 45,
      "metadata": {}
    },
    {
      "cell_type": "markdown",
      "source": [
        "... have fun with Sequences!"
      ],
      "metadata": {}
    }
  ],
  "metadata": {
    "@webio": {
      "lastCommId": null,
      "lastKernelId": null
    },
    "kernelspec": {
      "name": "julia-1.3",
      "language": "julia",
      "display_name": "Julia 1.3.0"
    },
    "language_info": {
      "file_extension": ".jl",
      "name": "julia",
      "mimetype": "application/julia",
      "version": "1.3.0"
    },
    "kernel_info": {
      "name": "julia-1.3"
    },
    "nteract": {
      "version": "0.15.0"
    }
  },
  "nbformat": 4,
  "nbformat_minor": 2
}