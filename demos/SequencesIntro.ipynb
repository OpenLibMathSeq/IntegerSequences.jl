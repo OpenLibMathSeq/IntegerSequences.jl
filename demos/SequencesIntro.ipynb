{
 "cells": [
  {
   "cell_type": "markdown",
   "metadata": {},
   "source": [
    "<html> <h1 style=\"color:brown;line-height:1.5;text-align:center;\">\n",
    "Introduction to <a href=\"https://github.com/OpenLibMathSeq/IntegerSequences\">IntegerSequences</a>.</h1> \n",
    "<p style=\"text-align:center;color:brown\">A Jupyter notebook for the Julia kernel.</p>"
   ]
  },
  {
   "cell_type": "code",
   "execution_count": 1,
   "metadata": {},
   "outputs": [
    {
     "name": "stdout",
     "output_type": "stream",
     "text": [
      "\n",
      "Welcome to Nemo version 0.12.3\n",
      "\n",
      "Nemo comes with absolutely no warranty whatsoever\n",
      "\n"
     ]
    }
   ],
   "source": [
    "using IntegerSequences"
   ]
  },
  {
   "cell_type": "code",
   "execution_count": 2,
   "metadata": {},
   "outputs": [
    {
     "data": {
      "text/plain": [
       "6"
      ]
     },
     "execution_count": 2,
     "metadata": {},
     "output_type": "execute_result"
    }
   ],
   "source": [
    "∏([1, 2, 3])"
   ]
  },
  {
   "cell_type": "markdown",
   "metadata": {},
   "source": [
    "This behaviour is a bit different (more spezialized) than Julia's prod function:"
   ]
  },
  {
   "cell_type": "code",
   "execution_count": 3,
   "metadata": {},
   "outputs": [
    {
     "data": {
      "text/plain": [
       "1"
      ]
     },
     "execution_count": 3,
     "metadata": {},
     "output_type": "execute_result"
    }
   ],
   "source": [
    "∏([])"
   ]
  },
  {
   "cell_type": "markdown",
   "metadata": {},
   "source": [
    "<a href=\"http://oeis.org/A000002\">A000002</a>"
   ]
  },
  {
   "cell_type": "code",
   "execution_count": 4,
   "metadata": {},
   "outputs": [
    {
     "data": {
      "text/latex": [
       "Return the list of the first $n$ terms of the Kolakoski sequence.\n",
       "\n"
      ],
      "text/plain": [
       "  Return the list of the first \u001b[35mn\u001b[39m terms of the Kolakoski sequence."
      ]
     },
     "execution_count": 4,
     "metadata": {},
     "output_type": "execute_result"
    }
   ],
   "source": [
    "?KolakoskiList(n)"
   ]
  },
  {
   "cell_type": "code",
   "execution_count": 5,
   "metadata": {},
   "outputs": [
    {
     "name": "stdout",
     "output_type": "stream",
     "text": [
      "  0.386641 seconds (427.93 k allocations: 22.188 MiB, 3.76% gc time)\n"
     ]
    }
   ],
   "source": [
    "@time KolakoskiList(10000);"
   ]
  },
  {
   "cell_type": "markdown",
   "metadata": {},
   "source": [
    "<a href=\"http://oeis.org/A000041\">A000041</a>"
   ]
  },
  {
   "cell_type": "code",
   "execution_count": 6,
   "metadata": {},
   "outputs": [
    {
     "data": {
      "text/latex": [
       "Return the first n numbers of integer partitions.\n",
       "\n"
      ],
      "text/plain": [
       "  Return the first n numbers of integer partitions."
      ]
     },
     "execution_count": 6,
     "metadata": {},
     "output_type": "execute_result"
    }
   ],
   "source": [
    "?L000041(n)"
   ]
  },
  {
   "cell_type": "markdown",
   "metadata": {},
   "source": [
    "Sometimes alias names are provided:"
   ]
  },
  {
   "cell_type": "code",
   "execution_count": 7,
   "metadata": {},
   "outputs": [
    {
     "data": {
      "text/latex": [
       "Return the first n numbers of integer partitions.\n",
       "\n"
      ],
      "text/plain": [
       "  Return the first n numbers of integer partitions."
      ]
     },
     "execution_count": 7,
     "metadata": {},
     "output_type": "execute_result"
    }
   ],
   "source": [
    "?PartitionNumberList(n)"
   ]
  },
  {
   "cell_type": "code",
   "execution_count": 8,
   "metadata": {},
   "outputs": [
    {
     "name": "stdout",
     "output_type": "stream",
     "text": [
      "  0.454912 seconds (450.43 k allocations: 22.779 MiB, 3.65% gc time)\n"
     ]
    },
    {
     "data": {
      "text/plain": [
       "10000-element Array{Nemo.fmpz,1}:\n",
       " 1                                                                                                          \n",
       " 1                                                                                                          \n",
       " 2                                                                                                          \n",
       " 3                                                                                                          \n",
       " 5                                                                                                          \n",
       " 7                                                                                                          \n",
       " 11                                                                                                         \n",
       " 15                                                                                                         \n",
       " 22                                                                                                         \n",
       " 30                                                                                                         \n",
       " 42                                                                                                         \n",
       " 56                                                                                                         \n",
       " 77                                                                                                         \n",
       " ⋮                                                                                                          \n",
       " 31043825285346179203111322344702502691204288916782299617140664920755263693739998376431336412511604846065386\n",
       " 31441633162505017725043072685150280998942275010990240407310684976259300201102466312424654422505902209828160\n",
       " 31844518570662728128432498198770643470554878567147357519065748313704248350967866596215554854000450190422692\n",
       " 32252546062317406248156034165388338179552879591675562638154916336292505933438802567830371084979643431802320\n",
       " 32665781007405524258389071434459832520705557601233383765165302244509726839395712373593512541795379995093234\n",
       " 33084289603612407511950812669293367467125730548295752163474430686998163300813819769018599450853256690251572\n",
       " 33508138886812245602672231457913762038439470641735472172049172830310371115678820194365016404354643228993780\n",
       " 33937396741639258612119265224819443872151984974260266129721255782198903530519782537842049715539046879887297\n",
       " 34372131912191659706288103452862907473008084341860567259397383830892398633152171755868679771156323979187742\n",
       " 34812414012870075703014493600818021522596529007784886495230940523526628315252053824848577978149645301487874\n",
       " 35258313539352107939906327583171132251729624119064301429161749554127817510844257916651009136109253133438537\n",
       " 35709901879704736738758549207052696680819022123397567612860179055188265961723158018938110612668644192313000"
      ]
     },
     "execution_count": 8,
     "metadata": {},
     "output_type": "execute_result"
    }
   ],
   "source": [
    "@time PartitionNumberList(10000)"
   ]
  },
  {
   "cell_type": "markdown",
   "metadata": {},
   "source": [
    "OEIS: <a href=\"https://oeis.org/A000594\">A000594</a>\n",
    "Wikipedia: <a href=\"https://en.wikipedia.org/wiki/Ramanujan_tau_function\">Ramanujan tau function</a>\n",
    "MathOverflow: <a href=\"https://mathoverflow.net/questions/161172/ramanujans-tau-function\">\n",
    "Ramanujan's tau function</a>"
   ]
  },
  {
   "cell_type": "code",
   "execution_count": 9,
   "metadata": {},
   "outputs": [
    {
     "data": {
      "text/latex": [
       "List of the first values of the Ramanujan tau function, the Fourier coefficients of the Weierstrass Delta-function.\n",
       "\n"
      ],
      "text/plain": [
       "  List of the first values of the Ramanujan tau function, the Fourier\n",
       "  coefficients of the Weierstrass Delta-function."
      ]
     },
     "execution_count": 9,
     "metadata": {},
     "output_type": "execute_result"
    }
   ],
   "source": [
    "?RamanujanTauList(n)"
   ]
  },
  {
   "cell_type": "code",
   "execution_count": 10,
   "metadata": {},
   "outputs": [
    {
     "name": "stdout",
     "output_type": "stream",
     "text": [
      "  0.018450 seconds (10.54 k allocations: 267.405 KiB)\n"
     ]
    }
   ],
   "source": [
    "@time RamanujanTauList(10000);"
   ]
  },
  {
   "cell_type": "code",
   "execution_count": 11,
   "metadata": {},
   "outputs": [
    {
     "name": "stdout",
     "output_type": "stream",
     "text": [
      "-482606811957501440000\n"
     ]
    }
   ],
   "source": [
    "RamanujanTau(10000) |> println"
   ]
  },
  {
   "cell_type": "markdown",
   "metadata": {},
   "source": [
    "<a href=\"http://oeis.org/A080577\">A080577</a>"
   ]
  },
  {
   "cell_type": "code",
   "execution_count": 12,
   "metadata": {},
   "outputs": [
    {
     "data": {
      "text/latex": [
       "Generates the integer partitions of $n$ in graded reverse lexicographic order, the canonical ordering of partitions.\n",
       "\n"
      ],
      "text/plain": [
       "  Generates the integer partitions of \u001b[35mn\u001b[39m in graded reverse lexicographic order,\n",
       "  the canonical ordering of partitions."
      ]
     },
     "execution_count": 12,
     "metadata": {},
     "output_type": "execute_result"
    }
   ],
   "source": [
    "?V080577(n)"
   ]
  },
  {
   "cell_type": "markdown",
   "metadata": {},
   "source": [
    "The function name 'Partition' is an alias for V080577. Though a better name it might lead to name clashes with other libraries (for instance with 'AbstractAlgebra'). "
   ]
  },
  {
   "cell_type": "code",
   "execution_count": 13,
   "metadata": {},
   "outputs": [
    {
     "data": {
      "text/latex": [
       "Generates the integer partitions of $n$ in graded reverse lexicographic order, the canonical ordering of partitions.\n",
       "\n"
      ],
      "text/plain": [
       "  Generates the integer partitions of \u001b[35mn\u001b[39m in graded reverse lexicographic order,\n",
       "  the canonical ordering of partitions."
      ]
     },
     "execution_count": 13,
     "metadata": {},
     "output_type": "execute_result"
    }
   ],
   "source": [
    "?Partition(n)"
   ]
  },
  {
   "cell_type": "code",
   "execution_count": 14,
   "metadata": {},
   "outputs": [
    {
     "name": "stdout",
     "output_type": "stream",
     "text": [
      "[1]\n",
      "\n",
      "[2, 0]\n",
      "[1, 1]\n",
      "\n",
      "[3, 0, 0]\n",
      "[2, 1, 0]\n",
      "[1, 1, 1]\n",
      "\n",
      "[4, 0, 0, 0]\n",
      "[3, 1, 0, 0]\n",
      "[2, 2, 0, 0]\n",
      "[2, 1, 1, 0]\n",
      "[1, 1, 1, 1]\n",
      "\n",
      "[5, 0, 0, 0, 0]\n",
      "[4, 1, 0, 0, 0]\n",
      "[3, 2, 0, 0, 0]\n",
      "[3, 1, 1, 0, 0]\n",
      "[2, 2, 1, 0, 0]\n",
      "[2, 1, 1, 1, 0]\n",
      "[1, 1, 1, 1, 1]\n",
      "\n"
     ]
    }
   ],
   "source": [
    "for n in 1:5 Partition(n); println() end"
   ]
  },
  {
   "cell_type": "markdown",
   "metadata": {},
   "source": [
    "<a href=\"http://oeis.org/A004018\">A004018</a>"
   ]
  },
  {
   "cell_type": "markdown",
   "metadata": {},
   "source": [
    "Number of points in square lattice on the circle of radius √n."
   ]
  },
  {
   "cell_type": "code",
   "execution_count": 15,
   "metadata": {},
   "outputs": [
    {
     "data": {
      "text/latex": [
       "Return the number of ways of writing a nonnegative integer n as a sum of 2 squares.\n",
       "\n"
      ],
      "text/plain": [
       "  Return the number of ways of writing a nonnegative integer n as a sum of 2\n",
       "  squares."
      ]
     },
     "execution_count": 15,
     "metadata": {},
     "output_type": "execute_result"
    }
   ],
   "source": [
    "?L004018(n)"
   ]
  },
  {
   "cell_type": "code",
   "execution_count": 16,
   "metadata": {},
   "outputs": [
    {
     "name": "stdout",
     "output_type": "stream",
     "text": [
      "0 ↦ 1\n",
      "1 ↦ 4\n",
      "2 ↦ 4\n",
      "3 ↦ 0\n",
      "4 ↦ 4\n",
      "5 ↦ 8\n",
      "6 ↦ 0\n",
      "7 ↦ 0\n",
      "8 ↦ 4\n",
      "9 ↦ 4\n",
      "10 ↦ 8\n",
      "11 ↦ 0\n"
     ]
    }
   ],
   "source": [
    "SeqShow(L004018(12))"
   ]
  },
  {
   "cell_type": "markdown",
   "metadata": {},
   "source": [
    "<a href=\"http://oeis.org/A007947\">A007947</a>"
   ]
  },
  {
   "cell_type": "code",
   "execution_count": 17,
   "metadata": {},
   "outputs": [
    {
     "data": {
      "text/latex": [
       "Return the radical of $n$ which is the product of the prime numbers dividing $n$ (also called the squarefree kernel of $n$).\n",
       "\n"
      ],
      "text/plain": [
       "  Return the radical of \u001b[35mn\u001b[39m which is the product of the prime numbers dividing \u001b[35mn\u001b[39m\n",
       "  (also called the squarefree kernel of \u001b[35mn\u001b[39m)."
      ]
     },
     "execution_count": 17,
     "metadata": {},
     "output_type": "execute_result"
    }
   ],
   "source": [
    "?Radical(n)"
   ]
  },
  {
   "cell_type": "code",
   "execution_count": 18,
   "metadata": {},
   "outputs": [
    {
     "name": "stdout",
     "output_type": "stream",
     "text": [
      "1 ↦ 1\n",
      "2 ↦ 2\n",
      "3 ↦ 3\n",
      "4 ↦ 2\n",
      "5 ↦ 5\n",
      "6 ↦ 6\n",
      "7 ↦ 7\n",
      "8 ↦ 2\n",
      "9 ↦ 3\n",
      "10 ↦ 10\n"
     ]
    }
   ],
   "source": [
    "SeqShow([Radical(n) for n in 1:10], 1)"
   ]
  },
  {
   "cell_type": "code",
   "execution_count": 19,
   "metadata": {},
   "outputs": [
    {
     "name": "stdout",
     "output_type": "stream",
     "text": [
      "[1, 2, 3, 2, 5, 6, 7, 2, 3, 10]\n"
     ]
    }
   ],
   "source": [
    "ZArray(10, Radical) |> Println # type beheaded"
   ]
  },
  {
   "cell_type": "code",
   "execution_count": 20,
   "metadata": {},
   "outputs": [
    {
     "name": "stdout",
     "output_type": "stream",
     "text": [
      "Nemo.fmpz[1, 2, 3, 2, 5, 6, 7, 2, 3, 10]\n"
     ]
    }
   ],
   "source": [
    "ZArray(10, Radical) |> println # type shown"
   ]
  },
  {
   "cell_type": "code",
   "execution_count": 21,
   "metadata": {},
   "outputs": [
    {
     "data": {
      "text/latex": [
       "Think of a 'Nemo.fmpz' as a 'BigInt'. 'fmpz' stands for 'fast multiple precision zahl (Zahl=integer)'. Nemo is a library designed, developed and maintained by William Hart with the help of others. The mathematical symbol for the ring of integers is the blackbord (double-struck) Z, also written ZZ. In reference to this ZZ(n) defines the integer n as a fmpz.\n",
       "\n"
      ],
      "text/plain": [
       "  Think of a 'Nemo.fmpz' as a 'BigInt'. 'fmpz' stands for 'fast multiple\n",
       "  precision zahl (Zahl=integer)'. Nemo is a library designed, developed and\n",
       "  maintained by William Hart with the help of others. The mathematical symbol\n",
       "  for the ring of integers is the blackbord (double-struck) Z, also written\n",
       "  ZZ. In reference to this ZZ(n) defines the integer n as a fmpz."
      ]
     },
     "execution_count": 21,
     "metadata": {},
     "output_type": "execute_result"
    }
   ],
   "source": [
    "?Nemofmpz(n)"
   ]
  },
  {
   "cell_type": "code",
   "execution_count": 46,
   "metadata": {},
   "outputs": [
    {
     "name": "stdout",
     "output_type": "stream",
     "text": [
      "7\n",
      "fmpz\n"
     ]
    }
   ],
   "source": [
    "using Nemo\n",
    "ZZ(7) |> println\n",
    "typeof(ZZ(7)) |> println"
   ]
  },
  {
   "cell_type": "markdown",
   "metadata": {},
   "source": [
    "<a href=\"http://oeis.org/A160014\">A160014</a> C<sub>1</sub>(2n) "
   ]
  },
  {
   "cell_type": "code",
   "execution_count": 2,
   "metadata": {},
   "outputs": [
    {
     "data": {
      "text/latex": [
       "Return the list of length len of Clausen numbers which are the denominators of the Bernoulli numbers $B_{2n}$.\n",
       "\n"
      ],
      "text/plain": [
       "  Return the list of length len of Clausen numbers which are the denominators\n",
       "  of the Bernoulli numbers \u001b[35mB_{2n}\u001b[39m."
      ]
     },
     "execution_count": 2,
     "metadata": {},
     "output_type": "execute_result"
    }
   ],
   "source": [
    "?ClausenNumberList(len)"
   ]
  },
  {
   "cell_type": "code",
   "execution_count": 3,
   "metadata": {},
   "outputs": [
    {
     "name": "stdout",
     "output_type": "stream",
     "text": [
      "  1.908303 seconds (4.20 M allocations: 153.879 MiB, 12.71% gc time)\n"
     ]
    },
    {
     "data": {
      "text/plain": [
       "10000-element Array{Nemo.fmpz,1}:\n",
       " 1                                      \n",
       " 6                                      \n",
       " 30                                     \n",
       " 42                                     \n",
       " 30                                     \n",
       " 66                                     \n",
       " 2730                                   \n",
       " 6                                      \n",
       " 510                                    \n",
       " 798                                    \n",
       " 330                                    \n",
       " 138                                    \n",
       " 2730                                   \n",
       " ⋮                                      \n",
       " 61410                                  \n",
       " 119874                                 \n",
       " 377955235229990286356376822928609444830\n",
       " 6                                      \n",
       " 510                                    \n",
       " 42                                     \n",
       " 30                                     \n",
       " 1319406                                \n",
       " 599661821866545369046074290609553308670\n",
       " 6                                      \n",
       " 599910                                 \n",
       " 148541326374                           "
      ]
     },
     "execution_count": 3,
     "metadata": {},
     "output_type": "execute_result"
    }
   ],
   "source": [
    "@time ClausenNumberList(10000)"
   ]
  },
  {
   "cell_type": "markdown",
   "metadata": {},
   "source": [
    "<a href=\"http://oeis.org/A055883\">A055883</a>"
   ]
  },
  {
   "cell_type": "code",
   "execution_count": 25,
   "metadata": {},
   "outputs": [
    {
     "data": {
      "text/latex": [
       "Return the exponential transform of Pascal's triangle.\n",
       "\n"
      ],
      "text/plain": [
       "  Return the exponential transform of Pascal's triangle."
      ]
     },
     "execution_count": 25,
     "metadata": {},
     "output_type": "execute_result"
    }
   ],
   "source": [
    "?T055883(n)"
   ]
  },
  {
   "cell_type": "code",
   "execution_count": 26,
   "metadata": {},
   "outputs": [
    {
     "name": "stdout",
     "output_type": "stream",
     "text": [
      "[1]\n",
      "[1, 1]\n",
      "[2, 4, 2]\n",
      "[5, 15, 15, 5]\n",
      "[15, 60, 90, 60, 15]\n",
      "[52, 260, 520, 520, 260, 52]\n",
      "[203, 1218, 3045, 4060, 3045, 1218, 203]\n",
      "[877, 6139, 18417, 30695, 30695, 18417, 6139, 877]\n"
     ]
    }
   ],
   "source": [
    "T = T055883(8)\n",
    "ShowAsΔ(T)"
   ]
  },
  {
   "cell_type": "markdown",
   "metadata": {},
   "source": [
    "<a href=\"http://oeis.org/A055882\">A055882</a>"
   ]
  },
  {
   "cell_type": "code",
   "execution_count": 27,
   "metadata": {},
   "outputs": [
    {
     "name": "stdout",
     "output_type": "stream",
     "text": [
      "0 ↦ 1\n",
      "1 ↦ 2\n",
      "2 ↦ 8\n",
      "3 ↦ 40\n",
      "4 ↦ 240\n",
      "5 ↦ 1664\n",
      "6 ↦ 12992\n",
      "7 ↦ 112256\n"
     ]
    }
   ],
   "source": [
    "SeqShow(RowSums(T))"
   ]
  },
  {
   "cell_type": "code",
   "execution_count": 28,
   "metadata": {},
   "outputs": [
    {
     "data": {
      "text/plain": [
       "93326215443944152681699238856266700490715968264381621468592963895217599993229915608941463976156518286253697920827223758251185210916864000000000000000000000000"
      ]
     },
     "execution_count": 28,
     "metadata": {},
     "output_type": "execute_result"
    }
   ],
   "source": [
    "F!(100) # factorial, by abuse of Julia's notational convention."
   ]
  },
  {
   "cell_type": "code",
   "execution_count": 29,
   "metadata": {},
   "outputs": [
    {
     "data": {
      "text/plain": [
       "7672007761125431684634727597495353711476575990922977572996420503817280042645967011366496920719186500492584771921662443520000000000000000000"
      ]
     },
     "execution_count": 29,
     "metadata": {},
     "output_type": "execute_result"
    }
   ],
   "source": [
    "20 ↑ 80 # rising factorial (a.k.a. Pochhammer)"
   ]
  },
  {
   "cell_type": "code",
   "execution_count": 30,
   "metadata": {},
   "outputs": [
    {
     "data": {
      "text/plain": [
       "29417320058814110230954525683465474269466473294721862358843420910671112153490073321472000000000000000"
      ]
     },
     "execution_count": 30,
     "metadata": {},
     "output_type": "execute_result"
    }
   ],
   "source": [
    "80 ↓ 60  # falling factorial"
   ]
  },
  {
   "cell_type": "markdown",
   "metadata": {},
   "source": [
    "<a href=\"http://oeis.org/A000005\">A000005</a>\n",
    "What a shame that GitHub cannot display correctly &tau; and &sigma;."
   ]
  },
  {
   "cell_type": "code",
   "execution_count": 31,
   "metadata": {},
   "outputs": [
    {
     "data": {
      "text/latex": [
       "Return $τ(n)$ (a.k.a. $σ_0(n)$), the number of divisors of $n$. Cf. A000005.\n",
       "\n"
      ],
      "text/plain": [
       "  Return \u001b[35mτ(n)\u001b[39m (a.k.a. \u001b[35mσ_0(n)\u001b[39m), the number of divisors of \u001b[35mn\u001b[39m. Cf. A000005."
      ]
     },
     "execution_count": 31,
     "metadata": {},
     "output_type": "execute_result"
    }
   ],
   "source": [
    "?τ(n)"
   ]
  },
  {
   "cell_type": "code",
   "execution_count": 32,
   "metadata": {},
   "outputs": [
    {
     "data": {
      "text/plain": [
       "70"
      ]
     },
     "execution_count": 32,
     "metadata": {},
     "output_type": "execute_result"
    }
   ],
   "source": [
    "τ(25920)"
   ]
  },
  {
   "cell_type": "markdown",
   "metadata": {},
   "source": [
    "<a href=\"http://oeis.org/A000203\">A000203</a>"
   ]
  },
  {
   "cell_type": "code",
   "execution_count": 33,
   "metadata": {},
   "outputs": [
    {
     "data": {
      "text/latex": [
       "Return $σ(n)$ (a.k.a. $σ_1(n)$), the sum of the divisors of $n$. Cf. A000203.\n",
       "\n"
      ],
      "text/plain": [
       "  Return \u001b[35mσ(n)\u001b[39m (a.k.a. \u001b[35mσ_1(n)\u001b[39m), the sum of the divisors of \u001b[35mn\u001b[39m. Cf. A000203."
      ]
     },
     "execution_count": 33,
     "metadata": {},
     "output_type": "execute_result"
    }
   ],
   "source": [
    "?σ(n)"
   ]
  },
  {
   "cell_type": "code",
   "execution_count": 34,
   "metadata": {},
   "outputs": [
    {
     "data": {
      "text/plain": [
       "92202"
      ]
     },
     "execution_count": 34,
     "metadata": {},
     "output_type": "execute_result"
    }
   ],
   "source": [
    "σ(25920) "
   ]
  },
  {
   "cell_type": "markdown",
   "metadata": {},
   "source": [
    "Number of acyclic orientations of the Turán graph T(2n, n) for n = 20."
   ]
  },
  {
   "cell_type": "code",
   "execution_count": 35,
   "metadata": {},
   "outputs": [
    {
     "data": {
      "text/latex": [
       "Return $(2n)!$ Hyper$1F1[-n, -2n, -1]$. Number of acyclic orientations of the Turán graph $T(2n,n)$. (Alois P. Heinz)\n",
       "\n"
      ],
      "text/plain": [
       "  Return \u001b[35m(2n)!\u001b[39m Hyper\u001b[35m1F1[-n, -2n, -1]\u001b[39m. Number of acyclic orientations of the\n",
       "  Turán graph \u001b[35mT(2n,n)\u001b[39m. (Alois P. Heinz)"
      ]
     },
     "execution_count": 35,
     "metadata": {},
     "output_type": "execute_result"
    }
   ],
   "source": [
    "?V033815(n)"
   ]
  },
  {
   "cell_type": "code",
   "execution_count": 36,
   "metadata": {},
   "outputs": [
    {
     "data": {
      "text/plain": [
       "815915283247897734345611269596115894272000000000"
      ]
     },
     "execution_count": 36,
     "metadata": {},
     "output_type": "execute_result"
    }
   ],
   "source": [
    "V033815(20) "
   ]
  },
  {
   "cell_type": "markdown",
   "metadata": {},
   "source": [
    "The familiar Pascal's triangle."
   ]
  },
  {
   "cell_type": "code",
   "execution_count": 37,
   "metadata": {},
   "outputs": [
    {
     "name": "stdout",
     "output_type": "stream",
     "text": [
      "   1\n",
      "   1   1\n",
      "   1   2   1\n",
      "   1   3   3   1\n",
      "   1   4   6   4   1\n",
      "   1   5  10  10   5   1\n",
      "   1   6  15  20  15   6   1\n",
      "   1   7  21  35  35  21   7   1\n",
      "   1   8  28  56  70  56  28   8   1\n"
     ]
    }
   ],
   "source": [
    "for n in 0:8\n",
    "    for k in 0:n print(lpad(Binomial(n, k), 4)) end\n",
    "    println()\n",
    "end"
   ]
  },
  {
   "cell_type": "markdown",
   "metadata": {},
   "source": [
    "The binomial function defined for all ZZ. Here evaluated in an extended\n",
    "region on the 2-dim lattice near the origin. Works the same way as Maple and Mathematica. Some background can be found in: <a href=\"http://oeis.org/wiki/User:Peter_Luschny/ExtensionsOfTheBinomial\">Extensions of the Binomial</a>."
   ]
  },
  {
   "cell_type": "code",
   "execution_count": 38,
   "metadata": {
    "scrolled": false
   },
   "outputs": [
    {
     "name": "stdout",
     "output_type": "stream",
     "text": [
      "    1    0    0    0    0    1   -5   15  -35   70 -126\n",
      "   -4    1    0    0    0    1   -4   10  -20   35  -56\n",
      "    6   -3    1    0    0    1   -3    6  -10   15  -21\n",
      "   -4    3   -2    1    0    1   -2    3   -4    5   -6\n",
      "    1   -1    1   -1    1    1   -1    1   -1    1   -1\n",
      "    0    0    0    0    0    1    0    0    0    0    0\n",
      "    0    0    0    0    0    1    1    0    0    0    0\n",
      "    0    0    0    0    0    1    2    1    0    0    0\n",
      "    0    0    0    0    0    1    3    3    1    0    0\n",
      "    0    0    0    0    0    1    4    6    4    1    0\n",
      "    0    0    0    0    0    1    5   10   10    5    1\n"
     ]
    }
   ],
   "source": [
    "for n in -5:5\n",
    "    for k in -5:5\n",
    "        print(lpad(Binomial(n, k), 5))\n",
    "    end\n",
    "    println()\n",
    "end"
   ]
  },
  {
   "cell_type": "code",
   "execution_count": 39,
   "metadata": {},
   "outputs": [
    {
     "data": {
      "text/latex": [
       "Query if $m$ is prime to $n$. Knuth, Graham and Patashnik write in \"Concrete Mathematics\": \"Hear us, O mathematicians of the world! Let us not wait any longer! We can make many formulas clearer by defining a new notation now! Let us agree to write m ⊥ n, and to say \"m is prime to n\", if m and n are relatively prime.\"\n",
       "\n"
      ],
      "text/plain": [
       "  Query if \u001b[35mm\u001b[39m is prime to \u001b[35mn\u001b[39m. Knuth, Graham and Patashnik write in \"Concrete\n",
       "  Mathematics\": \"Hear us, O mathematicians of the world! Let us not wait any\n",
       "  longer! We can make many formulas clearer by defining a new notation now!\n",
       "  Let us agree to write m ⊥ n, and to say \"m is prime to n\", if m and n are\n",
       "  relatively prime.\""
      ]
     },
     "execution_count": 39,
     "metadata": {},
     "output_type": "execute_result"
    }
   ],
   "source": [
    "?⊥(m, n)"
   ]
  },
  {
   "cell_type": "code",
   "execution_count": 40,
   "metadata": {},
   "outputs": [
    {
     "name": "stdout",
     "output_type": "stream",
     "text": [
      "true true true true true true \n",
      "true false true false true false \n",
      "true true false true true false \n",
      "true false true false true false \n",
      "true true true true false true \n",
      "true false false false true false \n"
     ]
    }
   ],
   "source": [
    "for n in 1:6\n",
    "    for m in 1:6 print(⊥(m, n), \" \" ) end\n",
    "    println()\n",
    "end"
   ]
  },
  {
   "cell_type": "markdown",
   "metadata": {},
   "source": [
    "Using conversion to integer this can also be written as:"
   ]
  },
  {
   "cell_type": "code",
   "execution_count": 41,
   "metadata": {},
   "outputs": [
    {
     "name": "stdout",
     "output_type": "stream",
     "text": [
      "1 1 1 1 1 1 \n",
      "1 0 1 0 1 0 \n",
      "1 1 0 1 1 0 \n",
      "1 0 1 0 1 0 \n",
      "1 1 1 1 0 1 \n",
      "1 0 0 0 1 0 \n"
     ]
    }
   ],
   "source": [
    "for n in 1:6\n",
    "    for m in 1:6 print(Int(⊥(m, n)), \" \" ) end\n",
    "    println()\n",
    "end"
   ]
  },
  {
   "cell_type": "code",
   "execution_count": 42,
   "metadata": {},
   "outputs": [
    {
     "data": {
      "text/latex": [
       "Query if $m$ is strong prime to $n$. m is strong prime to n iff m is prime to n and m does not divide n-1.\n",
       "\n"
      ],
      "text/plain": [
       "  Query if \u001b[35mm\u001b[39m is strong prime to \u001b[35mn\u001b[39m. m is strong prime to n iff m is prime to n\n",
       "  and m does not divide n-1."
      ]
     },
     "execution_count": 42,
     "metadata": {},
     "output_type": "execute_result"
    }
   ],
   "source": [
    "?⍊(m, n)"
   ]
  },
  {
   "cell_type": "code",
   "execution_count": 43,
   "metadata": {},
   "outputs": [
    {
     "name": "stdout",
     "output_type": "stream",
     "text": [
      "[1]\n",
      "[0, 0]\n",
      "[0, 1, 1]\n",
      "[1, 0, 1, 0]\n",
      "[0, 0, 1, 0, 1]\n",
      "[0, 0, 0, 0, 1, 0]\n",
      "[1, 1, 0, 1, 1, 1, 1]\n",
      "[0, 0, 1, 0, 1, 0, 0, 0]\n",
      "[0, 0, 1, 0, 1, 1, 1, 1, 1]\n",
      "[1, 0, 1, 0, 0, 0, 1, 0, 1, 0]\n",
      "[0, 1, 0, 0, 0, 1, 0, 0, 1, 0, 1]\n",
      "[0, 0, 0, 0, 1, 0, 1, 0, 1, 0, 1, 0]\n",
      "[1, 0, 1, 1, 1, 0, 1, 1, 1, 1, 1, 1, 1]\n",
      "[0, 0, 1, 0, 1, 0, 0, 0, 1, 0, 1, 0, 0, 0]\n",
      "[0, 1, 1, 0, 1, 1, 0, 1, 1, 1, 1, 1, 1, 1, 1]\n",
      "[1, 0, 0, 0, 1, 0, 1, 0, 1, 0, 1, 0, 0, 0, 1, 0]\n",
      "[0, 0, 0, 0, 0, 1, 0, 0, 1, 0, 1, 0, 0, 1, 1, 0, 1]\n",
      "[0, 0, 1, 0, 0, 0, 1, 0, 0, 0, 1, 0, 1, 0, 1, 0, 1, 0]\n",
      "[1, 1, 1, 1, 1, 1, 1, 1, 0, 1, 1, 1, 1, 1, 1, 1, 1, 1, 1]\n"
     ]
    }
   ],
   "source": [
    "for n in 5:23\n",
    "    T = [k for k in 1:n if ⍊(n, k)]\n",
    "    L = [Int(k ∈ T) for k in 3:(n - 2)]\n",
    "    println(L)\n",
    "end"
   ]
  },
  {
   "cell_type": "markdown",
   "metadata": {},
   "source": [
    "Insert the line sum(L) == n - 5 && println(n) if you want to see why this triangle is called the Save-Prime-Triangle. Generates the OLMS logo."
   ]
  },
  {
   "cell_type": "markdown",
   "metadata": {},
   "source": [
    "<a href=\"http://oeis.org/A319284\">A319284</a>"
   ]
  },
  {
   "cell_type": "code",
   "execution_count": 44,
   "metadata": {},
   "outputs": [
    {
     "data": {
      "text/latex": [
       "Returns the profile of the backtrack tree for the n queens problem (see A319284).\n",
       "\n"
      ],
      "text/plain": [
       "  Returns the profile of the backtrack tree for the n queens problem (see\n",
       "  A319284)."
      ]
     },
     "execution_count": 44,
     "metadata": {},
     "output_type": "execute_result"
    }
   ],
   "source": [
    "?Queens(n)"
   ]
  },
  {
   "cell_type": "code",
   "execution_count": 45,
   "metadata": {},
   "outputs": [
    {
     "name": "stdout",
     "output_type": "stream",
     "text": [
      "elapsed:   0.000004 seconds (1 allocation: 96 bytes)\n",
      "size:      0\n",
      "profile:   [1]\n",
      "nodes:     1\n",
      "solutions: 1\n",
      "\n",
      "elapsed:   0.000002 seconds (4 allocations: 256 bytes)\n",
      "size:      1\n",
      "profile:   [1, 1]\n",
      "nodes:     2\n",
      "solutions: 1\n",
      "\n",
      "elapsed:   0.000002 seconds (4 allocations: 288 bytes)\n",
      "size:      2\n",
      "profile:   [1, 2, 0]\n",
      "nodes:     3\n",
      "solutions: 0\n",
      "\n",
      "elapsed:   0.000003 seconds (4 allocations: 288 bytes)\n",
      "size:      3\n",
      "profile:   [1, 3, 2, 0]\n",
      "nodes:     6\n",
      "solutions: 0\n",
      "\n",
      "elapsed:   0.000003 seconds (4 allocations: 320 bytes)\n",
      "size:      4\n",
      "profile:   [1, 4, 6, 4, 2]\n",
      "nodes:     17\n",
      "solutions: 2\n",
      "\n",
      "elapsed:   0.000005 seconds (4 allocations: 320 bytes)\n",
      "size:      5\n",
      "profile:   [1, 5, 12, 14, 12, 10]\n",
      "nodes:     54\n",
      "solutions: 10\n",
      "\n",
      "elapsed:   0.000012 seconds (4 allocations: 352 bytes)\n",
      "size:      6\n",
      "profile:   [1, 6, 20, 36, 46, 40, 4]\n",
      "nodes:     153\n",
      "solutions: 4\n",
      "\n",
      "elapsed:   0.000035 seconds (4 allocations: 352 bytes)\n",
      "size:      7\n",
      "profile:   [1, 7, 30, 76, 140, 164, 94, 40]\n",
      "nodes:     552\n",
      "solutions: 40\n",
      "\n",
      "elapsed:   0.000154 seconds (4 allocations: 384 bytes)\n",
      "size:      8\n",
      "profile:   [1, 8, 42, 140, 344, 568, 550, 312, 92]\n",
      "nodes:     2057\n",
      "solutions: 92\n",
      "\n",
      "elapsed:   0.000598 seconds (4 allocations: 384 bytes)\n",
      "size:      9\n",
      "profile:   [1, 9, 56, 234, 732, 1614, 2292, 2038, 1066, 352]\n",
      "nodes:     8394\n",
      "solutions: 352\n",
      "\n",
      "elapsed:   0.002822 seconds (4 allocations: 416 bytes)\n",
      "size:      10\n",
      "profile:   [1, 10, 72, 364, 1400, 3916, 7552, 9632, 7828, 4040, 724]\n",
      "nodes:     35539\n",
      "solutions: 724\n",
      "\n"
     ]
    }
   ],
   "source": [
    "function QueensProfile(n)\n",
    "    for n in 0:n\n",
    "        print(\"elapsed: \")\n",
    "        @time profile = Queens(n)\n",
    "        println(\"size:      \", n)\n",
    "        println(\"profile:   \", profile)\n",
    "        println(\"nodes:     \", sum(profile))\n",
    "        println(\"solutions: \", profile[n+1])\n",
    "        println()\n",
    "    end\n",
    "end\n",
    "QueensProfile(10)"
   ]
  },
  {
   "cell_type": "markdown",
   "metadata": {},
   "source": [
    "... have fun with Sequences!"
   ]
  }
 ],
 "metadata": {
  "kernelspec": {
   "display_name": "Julia 1.1.0",
   "language": "julia",
   "name": "julia-1.1"
  },
  "language_info": {
   "file_extension": ".jl",
   "mimetype": "application/julia",
   "name": "julia",
   "version": "1.1.0"
  }
 },
 "nbformat": 4,
 "nbformat_minor": 2
}
